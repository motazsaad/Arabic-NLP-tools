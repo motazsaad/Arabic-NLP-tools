{
 "metadata": {
  "language_info": {
   "codemirror_mode": {
    "name": "ipython",
    "version": 3
   },
   "file_extension": ".py",
   "mimetype": "text/x-python",
   "name": "python",
   "nbconvert_exporter": "python",
   "pygments_lexer": "ipython3",
   "version": "3.8.7-final"
  },
  "orig_nbformat": 2,
  "kernelspec": {
   "name": "python3",
   "display_name": "Python 3.8.7 64-bit",
   "metadata": {
    "interpreter": {
     "hash": "4d9ea7c2a71b041106b18f09f62a1689b2c4b433385ef95cbfe9dbf42e6af04d"
    }
   }
  }
 },
 "nbformat": 4,
 "nbformat_minor": 2,
 "cells": [
  {
   "source": [
    "# Farasa Demo"
   ],
   "cell_type": "markdown",
   "metadata": {}
  },
  {
   "cell_type": "code",
   "execution_count": 46,
   "metadata": {},
   "outputs": [
    {
     "output_type": "stream",
     "name": "stdout",
     "text": [
      " \nيُشار إلى أن اللغة العربية يتحدثها أكثر من 422 مليون نسمة ويتوزع متحدثوها\n في المنطقة المعروفة باسم الوطن العربي بالإضافة إلى العديد من المناطق ال\nأخرى المجاورة مثل الأهواز وتركيا وتشاد والسنغال وإريتريا وغيرها.وهي اللغ\nة الرابعة من لغات منظمة الأمم المتحدة الرسمية الست. \n\n"
     ]
    }
   ],
   "source": [
    "sample =''' \n",
    "يُشار إلى أن اللغة العربية يتحدثها أكثر من 422 مليون نسمة ويتوزع متحدثوها\n",
    " في المنطقة المعروفة باسم الوطن العربي بالإضافة إلى العديد من المناطق ال\n",
    "أخرى المجاورة مثل الأهواز وتركيا وتشاد والسنغال وإريتريا وغيرها.وهي اللغ\n",
    "ة الرابعة من لغات منظمة الأمم المتحدة الرسمية الست. \n",
    "'''\n",
    "print(sample)"
   ]
  },
  {
   "source": [
    "# 1. NER"
   ],
   "cell_type": "markdown",
   "metadata": {}
  },
  {
   "cell_type": "code",
   "execution_count": 47,
   "metadata": {},
   "outputs": [
    {
     "output_type": "stream",
     "name": "stdout",
     "text": [
      "يشار/O إلى/O أن/O اللغة/O العربية/O يتحدثها/O أكثر/O من/O 422/O مليون/O نسمة/O ويتوزع/O متحدثوها/O\nفي/O المنطقة/O المعروفة/O باسم/O الوطن/B-ORG العربي/I-ORG بالإضافة/O إلى/O العديد/O من/O المناطق/O ال/O\nأخرى/O المجاورة/O مثل/O الأهواز/B-LOC وتركيا/B-LOC وتشاد/B-LOC والسنغال/B-LOC وإريتريا/B-LOC وغيرها/O ./O وهي/O اللغ/O\nة/O الرابعة/O من/O لغات/O منظمة/B-ORG الأمم/I-ORG المتحدة/I-ORG الرسمية/O الست/O ./O\n\nexecution time: 31.36 seconds\n"
     ]
    }
   ],
   "source": [
    "import time\n",
    "start_time = time.time()\n",
    "\n",
    "from farasa.ner import FarasaNamedEntityRecognizer \n",
    "ner = FarasaNamedEntityRecognizer()\n",
    "ner_tagged_text = ner.recognize(sample)\n",
    "print(ner_tagged_text)\n",
    "\n",
    "end_time = time.time()\n",
    "exec_time = end_time - start_time\n",
    "print('\\nexecution time: {:.2f} seconds'.format(exec_time))"
   ]
  },
  {
   "source": [
    "# 2. POS"
   ],
   "cell_type": "markdown",
   "metadata": {}
  },
  {
   "cell_type": "code",
   "execution_count": 48,
   "metadata": {},
   "outputs": [
    {
     "output_type": "stream",
     "name": "stdout",
     "text": [
      "S/S يشار/V إلى/PREP أن/PART ال+ لغ +ة/DET+NOUN+NSUFF-FS ال+ عربي +ة/DET+ADJ+NSUFF-FS يتحدث/V +ها/PRON أكثر/ADJ-MS من/PREP 422/NUM-MP مليون/NUM-MS نسم +ة/NOUN+NSUFF-FS و+/CONJ يتوزع/V متحدثوها/NOUN-MS E/E \nS/S في/PREP ال+ منطق +ة/DET+NOUN+NSUFF-FS ال+ معروف +ة/DET+ADJ+NSUFF-FP باسم/NOUN-MS ال+ وطن/DET+NOUN-MS ال+ عربي/DET+ADJ-MS ب+/PREP ال+ إضاف +ة/DET+NOUN+NSUFF-FS إلى/PREP ال+ عديد/DET+NOUN-MS من/PREP ال+ مناطق/DET+NOUN-MS ال/DET E/E \nS/S أخرى/NOUN-MS ال+ مجاور +ة/DET+ADJ+NSUFF-FD مثل/NOUN-MS ال+ أهواز/DET+NOUN-MS و+/CONJ تركيا/NOUN-MS و+/CONJ تشاد/NOUN-MS و+/CONJ ال+ سنغال/DET+NOUN-MS و+/CONJ إريتريا/NOUN-MS و+/CONJ غير/NOUN-MS +ها/PRON ./PUNC و+/CONJ هي/PRON ال+ لغ/DET+NOUN-MS E/E \nS/S ة/NOUN-MS ال+ رابع +ة/DET+ADJ+NSUFF-FP من/PREP لغ +ات/NOUN+NSUFF-FP منظم +ة/NOUN+NSUFF-FS ال+ أمم/DET+NOUN-MS ال+ متحد +ة/DET+ADJ+NSUFF-FP ال+ رسمي +ة/DET+ADJ+NSUFF-FD ال+ ست/DET+NOUN-MS ./PUNC E/E\n\nexecution time: 18.99 seconds\n"
     ]
    }
   ],
   "source": [
    "import time\n",
    "start_time = time.time()\n",
    "\n",
    "from farasa.pos import FarasaPOSTagger \n",
    "pos_tagger = FarasaPOSTagger()\n",
    "pos_tagged_text = pos_tagger.tag(sample)\n",
    "print(pos_tagged_text)\n",
    "\n",
    "end_time = time.time()\n",
    "exec_time = end_time - start_time\n",
    "print('\\nexecution time: {:.2f} seconds'.format(exec_time))"
   ]
  },
  {
   "source": [
    "# 3. Segmenter "
   ],
   "cell_type": "markdown",
   "metadata": {}
  },
  {
   "cell_type": "code",
   "execution_count": 49,
   "metadata": {},
   "outputs": [
    {
     "output_type": "stream",
     "name": "stdout",
     "text": [
      "يشار إلى أن ال+لغ+ة ال+عربي+ة يتحدث+ها أكثر من 422 مليون نسم+ة و+يتوزع متحدثوها \nفي ال+منطق+ة ال+معروف+ة باسم ال+وطن ال+عربي ب+ال+إضاف+ة إلى ال+عديد من ال+مناطق ال \nأخرى ال+مجاور+ة مثل ال+أهواز و+تركيا و+تشاد و+ال+سنغال و+إريتريا و+غير+ها . و+هي ال+لغ \n+ة ال+رابع+ة من لغ+ات منظم+ة ال+أمم ال+متحد+ة ال+رسمي+ة ال+ست .\n\nexecution time: 8.21 seconds\n"
     ]
    }
   ],
   "source": [
    "import time\n",
    "start_time = time.time()\n",
    "\n",
    "from farasa.segmenter import FarasaSegmenter\n",
    "segmenter = FarasaSegmenter() \n",
    "segmented_text = segmenter.segment(sample)\n",
    "print(segmented_text)\n",
    "\n",
    "end_time = time.time()\n",
    "exec_time = end_time - start_time\n",
    "print('\\nexecution time: {:.2f} seconds'.format(exec_time))"
   ]
  },
  {
   "source": [
    "# 4. Stemmer "
   ],
   "cell_type": "markdown",
   "metadata": {}
  },
  {
   "cell_type": "code",
   "execution_count": 50,
   "metadata": {},
   "outputs": [
    {
     "output_type": "stream",
     "name": "stdout",
     "text": [
      "أشار إلى أن لغة عربي تحدث أكثر من 422 مليون نسمة توزع متحدثوها\nفي منطقة معروف اسم وطن عربي إضافة إلى عديد من منطقة ال\nآخر مجاور مثل أهواز تركيا تشاد سنغال أريتريا غير . هي لغ\nرابع من لغة منظمة أمة متحد رسمي ست .\n\nexecution time: 5.96 seconds\n"
     ]
    }
   ],
   "source": [
    "import time\n",
    "start_time = time.time()\n",
    "\n",
    "stemmer = FarasaStemmer()\n",
    "stemmed_text = stemmer.stem(sample) \n",
    "print(stemmed_text)\n",
    "\n",
    "end_time = time.time()\n",
    "exec_time = end_time - start_time\n",
    "print('\\nexecution time: {:.2f} seconds'.format(exec_time))"
   ]
  }
 ]
}