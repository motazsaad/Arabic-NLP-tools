{
 "metadata": {
  "language_info": {
   "codemirror_mode": {
    "name": "ipython",
    "version": 3
   },
   "file_extension": ".py",
   "mimetype": "text/x-python",
   "name": "python",
   "nbconvert_exporter": "python",
   "pygments_lexer": "ipython3",
   "version": "3.8.7-final"
  },
  "orig_nbformat": 2,
  "kernelspec": {
   "name": "python3",
   "display_name": "Python 3.8.7 64-bit",
   "metadata": {
    "interpreter": {
     "hash": "4d9ea7c2a71b041106b18f09f62a1689b2c4b433385ef95cbfe9dbf42e6af04d"
    }
   }
  }
 },
 "nbformat": 4,
 "nbformat_minor": 2,
 "cells": [
  {
   "source": [
    "# CAMeL demo"
   ],
   "cell_type": "markdown",
   "metadata": {}
  },
  {
   "cell_type": "code",
   "execution_count": 1,
   "metadata": {},
   "outputs": [
    {
     "output_type": "stream",
     "name": "stdout",
     "text": [
      " \nيُشار إلى أن اللغة العربية يتحدثها أكثر من 422 مليون نسمة ويتوزع متحدثوها\n في المنطقة المعروفة باسم الوطن العربي بالإضافة إلى العديد من المناطق ال\nأخرى المجاورة مثل الأهواز وتركيا وتشاد والسنغال وإريتريا وغيرها.وهي اللغ\nة الرابعة من لغات منظمة الأمم المتحدة الرسمية الست. \n\n"
     ]
    }
   ],
   "source": [
    "sample =''' \n",
    "يُشار إلى أن اللغة العربية يتحدثها أكثر من 422 مليون نسمة ويتوزع متحدثوها\n",
    " في المنطقة المعروفة باسم الوطن العربي بالإضافة إلى العديد من المناطق ال\n",
    "أخرى المجاورة مثل الأهواز وتركيا وتشاد والسنغال وإريتريا وغيرها.وهي اللغ\n",
    "ة الرابعة من لغات منظمة الأمم المتحدة الرسمية الست. \n",
    "'''\n",
    "print(sample)"
   ]
  },
  {
   "cell_type": "code",
   "execution_count": null,
   "metadata": {},
   "outputs": [],
   "source": [
    "from camel_tools.ner import NERecognizer\n",
    "\n",
    "ner = NERecognizer.pretrained()\n",
    "\n",
    "# Predict the labels of a single sentence.\n",
    "# The sentence must be pretokenized by whitespace and punctuation.\n",
    "sentence = 'إمارة أبوظبي هي إحدى إمارات دولة الإمارات العربية المتحدة السبع .'.split()\n",
    "labels = ner.predict_sentence(sentence)\n",
    "\n",
    "# Print the list of token-label pairs\n",
    "print(list(zip(sentence, labels)))"
   ]
  }
 ]
}